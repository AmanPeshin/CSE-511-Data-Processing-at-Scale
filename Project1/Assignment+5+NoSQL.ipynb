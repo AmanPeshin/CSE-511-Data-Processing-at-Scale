{
  "cells": [
    {
      "cell_type": "markdown",
      "metadata": {
        "id": "view-in-github",
        "colab_type": "text"
      },
      "source": [
        "<a href=\"https://colab.research.google.com/github/AmanPeshin/CSE-511-Data-Processing-at-Scale/blob/main/Assignment%2B5%2BNoSQL.ipynb\" target=\"_parent\"><img src=\"https://colab.research.google.com/assets/colab-badge.svg\" alt=\"Open In Colab\"/></a>"
      ]
    },
    {
      "cell_type": "code",
      "execution_count": 16,
      "metadata": {
        "scrolled": true,
        "colab": {
          "base_uri": "https://localhost:8080/"
        },
        "id": "X15LLp-UeTai",
        "outputId": "0a4d0e94-731e-4689-d64e-a7d4fc14ec33"
      },
      "outputs": [
        {
          "output_type": "stream",
          "name": "stdout",
          "text": [
            "Looking in indexes: https://pypi.org/simple, https://us-python.pkg.dev/colab-wheels/public/simple/\n",
            "Requirement already satisfied: unqlite in /usr/local/lib/python3.7/dist-packages (0.9.3)\n",
            "Requirement already satisfied: Cython in /usr/local/lib/python3.7/dist-packages (from unqlite) (0.29.32)\n"
          ]
        }
      ],
      "source": []
    },
    {
      "cell_type": "code",
      "execution_count": 131,
      "metadata": {
        "id": "sHGervvKeTaq"
      },
      "outputs": [],
      "source": [
        "from unqlite import UnQLite\n",
        "import math\n",
        "\n",
        "db = UnQLite('sample.db')\n",
        "data = db.collection('data')"
      ]
    },
    {
      "cell_type": "markdown",
      "source": [
        "# New Section"
      ],
      "metadata": {
        "id": "iALwCbS2e16C"
      }
    },
    {
      "cell_type": "code",
      "execution_count": 132,
      "metadata": {
        "id": "CZsmhXMFeTar"
      },
      "outputs": [],
      "source": [
        "def writeOutputToTxt(filename, output):\n",
        "    file = open(filename, 'w')\n",
        "    for item in output:\n",
        "        file.write('$'.join(str(s) for s in item))\n",
        "        file.write('\\n')\n",
        "    file.close()"
      ]
    },
    {
      "cell_type": "code",
      "source": [],
      "metadata": {
        "id": "dqqW-Zr7TFBr"
      },
      "execution_count": 120,
      "outputs": []
    },
    {
      "cell_type": "code",
      "execution_count": 133,
      "metadata": {
        "id": "l2oqg-7FeTat"
      },
      "outputs": [],
      "source": [
        "def calcDistance(lat2, lon2, lat1, lon1):\n",
        "    R = 3959\n",
        "    latitude_1_rad = math.radians(lat1)\n",
        "    latitude_2_rad = math.radians(lat2)\n",
        "    difference_latitude_rad = math.radians(lat2 - lat1)\n",
        "    difference_longitude_rad = math.radians(lon2 - lon1) \n",
        "    calc = math.sin(difference_latitude_rad / 2) * math.sin(difference_latitude_rad/2) + math.cos(latitude_1_rad) * math.cos(latitude_2_rad) * math.sin(difference_longitude_rad / 2) * math.sin(difference_longitude_rad / 2)\n",
        "    c = 2 * math.atan2(math.sqrt(calc), math.sqrt(1 - calc))\n",
        "    return R * c"
      ]
    },
    {
      "cell_type": "code",
      "execution_count": 134,
      "metadata": {
        "id": "gLB3dWvceTav"
      },
      "outputs": [],
      "source": [
        "# Graded Cell, PartID: o1flK\n",
        "\n",
        "def FindBusinessBasedOnCity(cityToSearch, saveLocation1, collection):\n",
        "    output = []\n",
        "    data = collection.all()\n",
        "    for item in data:\n",
        "        if item['city'] == cityToSearch:\n",
        "            item_name = item['name']\n",
        "            item_addr = item['full_address']\n",
        "            item_city = item['city']\n",
        "            item_stat = item['state']\n",
        "            dict_temp = [item_name, item_addr, item_city, item_stat]\n",
        "            output.append(dict_temp)\n",
        "    writeOutputToTxt(saveLocation1, output)\n",
        "\n",
        "def FindBusinessBasedOnLocation(categoriesToSearch, myLocation, maxDistance, saveLocation2, collection):\n",
        "    output = []\n",
        "    lat1, lon1 = myLocation\n",
        "    data = collection.all()\n",
        "    for item in data:\n",
        "        if len(set(categoriesToSearch) - set(item['categories'])) < len(categoriesToSearch):\n",
        "            lat2 = item['latitude']\n",
        "            lon2 = item['longitude']\n",
        "            distance = calcDistance(lat2, lon2, lat1, lon1)\n",
        "            if distance <= maxDistance:\n",
        "                output.append([item['name']])\n",
        "    writeOutputToTxt(saveLocation2, output)"
      ]
    },
    {
      "cell_type": "code",
      "execution_count": 138,
      "metadata": {
        "id": "UnehF-TveTaw",
        "colab": {
          "base_uri": "https://localhost:8080/"
        },
        "outputId": "dca15311-1967-4976-9104-44c68ba85c20"
      },
      "outputs": [
        {
          "output_type": "stream",
          "name": "stdout",
          "text": [
            "Correct! You FindBusinessByCity function passes these test cases. This does not cover all possible test edge cases, however, so make sure that your function covers them before submitting!\n"
          ]
        }
      ],
      "source": [
        "true_results = [\"VinciTorio's Restaurant$1835 E Elliot Rd, Ste C109, Tempe, AZ 85284$Tempe$AZ\", \"P.croissants$7520 S Rural Rd, Tempe, AZ 85283$Tempe$AZ\", \"Salt Creek Home$1725 W Ruby Dr, Tempe, AZ 85284$Tempe$AZ\"]\n",
        "\n",
        "try:\n",
        "   FindBusinessBasedOnCity('Tempe', 'output_city.txt', data)\n",
        "except NameError as e:\n",
        "   print ('The FindBusinessBasedOnCity function is not defined! You must run the cell containing the function before running this evaluation cell.')\n",
        "except TypeError as e:\n",
        "   print (\"The FindBusinessBasedOnCity function is supposed to accept three arguments. Yours does not!\")\n",
        "   \n",
        "try:\n",
        "   opf = open('output_city.txt', 'r')\n",
        "except FileNotFoundError as e:\n",
        "  print (\"The FindBusinessBasedOnCity function does not write data to the correct location.\")\n",
        "  \n",
        "lines = opf.readlines()\n",
        "if len(lines) != 3:\n",
        "   print (\"The FindBusinessBasedOnCity function does not find the correct number of results, should be 3.\")\n",
        "   \n",
        "lines = [line.strip() for line in lines]\n",
        "if sorted(lines) == sorted(true_results):\n",
        "   print (\"Correct! You FindBusinessByCity function passes these test cases. This does not cover all possible test edge cases, however, so make sure that your function covers them before submitting!\")"
      ]
    },
    {
      "cell_type": "code",
      "execution_count": 139,
      "metadata": {
        "id": "o3T-ohaIeTay",
        "colab": {
          "base_uri": "https://localhost:8080/"
        },
        "outputId": "57142dfe-8c56-4026-c112-0a7405c5bfcd"
      },
      "outputs": [
        {
          "output_type": "stream",
          "name": "stdout",
          "text": [
            "Correct! Your FindBusinessBasedOnLocation function passes these test cases. This does not cover all possible edge cases, so make sure your function does before submitting.\n"
          ]
        }
      ],
      "source": [
        "true_results = [\"VinciTorio's Restaurant\"]\n",
        "\n",
        "try:\n",
        "   FindBusinessBasedOnLocation(['Buffets'], [33.3482589, -111.9088346], 10, 'output_loc.txt', data)\n",
        "except NameError as e: \n",
        "   print ('The FindBusinessBasedOnLocation function is not defined! You must run the cell containing the function before running this evaluation cell.')\n",
        "except TypeError as e:\n",
        "   print (\"The FindBusinessBasedOnLocation function is supposed to accept five arguments. Yours does not!\")\n",
        "   \n",
        "try:\n",
        "   opf = open('output_loc.txt','r')\n",
        "except FileNotFoundError as e:\n",
        "   print (\"The FindBusinessBasedOnLocation function does not write data to the correct location.\")\n",
        "\n",
        "lines = opf.readlines()\n",
        "if len(lines) != 1:\n",
        "   print (\"The FindBusinessBasedOnLocation function does not find the correct number of results, should be only 1.\")\n",
        "\n",
        "if lines[0].strip() == true_results[0]:\n",
        "   print (\"Correct! Your FindBusinessBasedOnLocation function passes these test cases. This does not cover all possible edge cases, so make sure your function does before submitting.\")"
      ]
    },
    {
      "cell_type": "code",
      "execution_count": 140,
      "metadata": {
        "id": "ILFKfdgjeTa0",
        "colab": {
          "base_uri": "https://localhost:8080/"
        },
        "outputId": "20f137c8-77e0-4d9f-e0f9-e3563fd59776"
      },
      "outputs": [
        {
          "output_type": "stream",
          "name": "stdout",
          "text": [
            "Correct! You FindBusinessByCity function passes these test cases. This does not cover all possible test edge cases, however, so make sure that your function covers them before submitting!\n"
          ]
        }
      ],
      "source": [
        "# Additional T1: FindBusinessBasedOnCity:\n",
        "\n",
        "true_results =['3 Palms$7707 E McDowell Rd, Scottsdale, AZ 85257$Scottsdale$AZ', \"Bob's Bike Shop$1608 N Miller Rd, Scottsdale, AZ 85257$Scottsdale$AZ\", 'Ronan & Tagart, PLC$8980 E Raintree Dr, Ste 120, Scottsdale, AZ 85260$Scottsdale$AZ', \"Sangria's$7700 E McCormick Pkwy, Scottsdale, AZ 85258$Scottsdale$AZ\", 'Turf Direct$8350 E Evans Rd, Scottsdale, AZ 85260$Scottsdale$AZ']\n",
        "try: \n",
        "   FindBusinessBasedOnCity('Scottsdale', 'output_city.txt', data) \n",
        "except NameError as e: \n",
        "   print('The FindBusinessBasedOnCity function is not defined! You must run the cell containing the function before running this evaluation cell.') \n",
        "except TypeError as e: \n",
        "   print(e) \n",
        "   print (\"The FindBusinessBasedOnCity function is supposed to accept three arguments. Yours does not!\") \n",
        "try: \n",
        "   opf = open('output_city.txt', 'r') \n",
        "except FileNotFoundError as e: \n",
        "   print (\"The FindBusinessBasedOnCity function does not write data to the correct location.\") \n",
        "\n",
        "lines = opf.readlines()\n",
        "if len(lines) != 5:\n",
        "   print (\"The FindBusinessBasedOnCity function does not find the correct number of results, should be 3.\") \n",
        "lines = [line.strip() for line in lines]\n",
        "if sorted(lines) == sorted(true_results):\n",
        "   print (\"Correct! You FindBusinessByCity function passes these test cases. This does not cover all possible test edge cases, however, so make sure that your function covers them before submitting!\")\n"
      ]
    },
    {
      "cell_type": "code",
      "execution_count": 141,
      "metadata": {
        "id": "95Lrw0VPeTa1",
        "colab": {
          "base_uri": "https://localhost:8080/"
        },
        "outputId": "560e55ed-bf86-41b5-9566-8bb5cefff1b8"
      },
      "outputs": [
        {
          "output_type": "stream",
          "name": "stdout",
          "text": [
            "Correct! You FindBusinessByCity function passes these test cases. This does not cover all possible test edge cases, however, so make sure that your function covers them before submitting!\n"
          ]
        }
      ],
      "source": [
        "# Additional T2: FindBusinessBasedOnCity:\n",
        "true_results =['Arizona Exterminating Co.$521 E Broadway Rd, Mesa, AZ 85204$Mesa$AZ', 'Bikram Yoga$1940 W 8th St, Ste 111, Mesa, AZ 85202$Mesa$AZ', \"Denny's Restaurant$1330 S Power Rd, Mesa, AZ 85206$Mesa$AZ\", 'Diamondback Gymnastics$7211 E Southern Avenue, Mesa, AZ 85209$Mesa$AZ', 'Southeast Valley Medical Group$1950 S Country Club Dr, Mesa, AZ 85210$Mesa$AZ', 'Spa Pima$2150 S Power Rd, Mesa, AZ 85209$Mesa$AZ', 'The Seafood Market$1910 S Gilbert Rd, Mesa, AZ 85204$Mesa$AZ']\n",
        "try:\n",
        "   FindBusinessBasedOnCity('Mesa', 'output_city.txt', data) \n",
        "except NameError as e: \n",
        "   print ('The FindBusinessBasedOnCity function is not defined! You must run the cell containing the function before running this evaluation cell.') \n",
        "except TypeError as e: \n",
        "   print(e) \n",
        "   print (\"The FindBusinessBasedOnCity function is supposed to accept three arguments. Yours does not!\") \n",
        "try: \n",
        "   opf = open('output_city.txt', 'r') \n",
        "except FileNotFoundError as e: \n",
        "   print (\"The FindBusinessBasedOnCity function does not write data to the correct location.\") \n",
        "\n",
        "lines = opf.readlines()\n",
        "if len(lines) != 7:\n",
        "   print (\"The FindBusinessBasedOnCity function does not find the correct number of results, should be 3.\") \n",
        "lines = [line.strip() for line in lines]\n",
        "if sorted(lines) == sorted(true_results):\n",
        "   print (\"Correct! You FindBusinessByCity function passes these test cases. This does not cover all possible test edge cases, however, so make sure that your function covers them before submitting!\") "
      ]
    },
    {
      "cell_type": "code",
      "execution_count": 142,
      "metadata": {
        "id": "RBfpfocmeTa2",
        "colab": {
          "base_uri": "https://localhost:8080/"
        },
        "outputId": "12ffa03b-b45c-4689-c820-a6d404b335a9"
      },
      "outputs": [
        {
          "output_type": "stream",
          "name": "stdout",
          "text": [
            "Correct! Your FindBusinessBasedOnLocation function passes these test cases. This does not cover all possible edge cases, so make sure your function does before submitting.\n"
          ]
        }
      ],
      "source": [
        "#Additional T1: FindBusinessBasedOnLocation:\n",
        "true_results =['The Seafood Market']\n",
        "try: \n",
        "   FindBusinessBasedOnLocation(['Specialty Food'], [33.3482589, -111.9088346], 10, 'output_loc.txt', data) \n",
        "except NameError as e: \n",
        "   print ('The FindBusinessBasedOnLocation function is not defined! You must run the cell containing the function before running this evaluation cell.') \n",
        "except TypeError as e: \n",
        "   print (\"The FindBusinessBasedOnLocation function is supposed to accept five arguments. Yours does not!\") \n",
        "try:\n",
        "   opf = open('output_loc.txt','r') \n",
        "except FileNotFoundError as e: \n",
        "   print (\"The FindBusinessBasedOnLocation function does not write data to the correct location.\") \n",
        "\n",
        "lines = opf.readlines()\n",
        "if len(lines) != 1:\n",
        "   print (\"The FindBusinessBasedOnLocation function does not find the correct number of results, should be only 1.\") \n",
        "lines = [line.strip() for line in lines]\n",
        "if sorted(lines) == sorted(true_results):\n",
        "   print (\"Correct! Your FindBusinessBasedOnLocation function passes these test cases. This does not cover all possible edge cases, so make sure your function does before submitting.\")\n"
      ]
    },
    {
      "cell_type": "code",
      "execution_count": 143,
      "metadata": {
        "id": "S-O-odQbeTa3",
        "colab": {
          "base_uri": "https://localhost:8080/"
        },
        "outputId": "9e9b8466-1a27-4724-884b-a042a7e8250c"
      },
      "outputs": [
        {
          "output_type": "stream",
          "name": "stdout",
          "text": [
            "Correct! Your FindBusinessBasedOnLocation function passes these test cases. This does not cover all possible edge cases, so make sure your function does before submitting.\n"
          ]
        }
      ],
      "source": [
        "#Additional T2: FindBusinessBasedOnLocation:\n",
        "true_results = ['P.croissants'] \n",
        "try: \n",
        "    FindBusinessBasedOnLocation(['Bakeries'], [33.3482589, -111.9088346], 10, 'output_loc.txt', data) \n",
        "except NameError as e: \n",
        "    print ('The FindBusinessBasedOnLocation function is not defined! You must run the cell containing the function before running this evaluation cell.') \n",
        "except TypeError as e: \n",
        "    print (\"The FindBusinessBasedOnLocation function is supposed to accept five arguments. Yours does not!\")\n",
        "try: \n",
        "    opf = open('output_loc.txt','r') \n",
        "except FileNotFoundError as e: \n",
        "    print (\"The FindBusinessBasedOnLocation function does not write data to the correct location.\")\n",
        "\n",
        "lines = opf.readlines()\n",
        "if len(lines) != 1: \n",
        "    print (\"The FindBusinessBasedOnLocation function does not find the correct number of results, should be only 1.\")\n",
        "lines = [line.strip() for line in lines]\n",
        "if sorted(lines) == sorted(true_results): \n",
        "    print (\"Correct! Your FindBusinessBasedOnLocation function passes these test cases. This does not cover all possible edge cases, so make sure your function does before submitting.\")\n"
      ]
    },
    {
      "cell_type": "code",
      "execution_count": 118,
      "metadata": {
        "id": "V-K0wr2ceTa4",
        "outputId": "4c891e0d-d8a0-4ad6-8c07-696708516b53",
        "colab": {
          "base_uri": "https://localhost:8080/"
        }
      },
      "outputs": [
        {
          "output_type": "stream",
          "name": "stdout",
          "text": [
            "Correct! Your FindBusinessBasedOnLocation function passes these test cases. This does not cover all possible edge cases, so make sure your function does before submitting.\n"
          ]
        }
      ],
      "source": [
        "# Additional T3: FindBusinessBasedOnLocation:\n",
        "true_results = ['The Seafood Market', 'P.croissants']\n",
        "try: \n",
        "    FindBusinessBasedOnLocation(['Food', 'Specialty Food'], [33.3482589, -111.9088346], 10, 'output_loc.txt', data) \n",
        "except NameError as e: \n",
        "    print ('The FindBusinessBasedOnLocation function is not defined! You must run the cell containing the function before running this evaluation cell.') \n",
        "except TypeError as e: \n",
        "    print (\"The FindBusinessBasedOnLocation function is supposed to accept five arguments. Yours does not!\")\n",
        "try: \n",
        "    opf = open('output_loc.txt','r') \n",
        "except FileNotFoundError as e: \n",
        "    print (\"The FindBusinessBasedOnLocation function does not write data to the correct location.\")\n",
        "\n",
        "lines = opf.readlines()\n",
        "if len(lines) != 2: \n",
        "    print (\"The FindBusinessBasedOnLocation function does not find the correct number of results, should be only 2.\")\n",
        "lines = [line.strip() for line in lines]\n",
        "if sorted(lines) == sorted(true_results): \n",
        "    print (\"Correct! Your FindBusinessBasedOnLocation function passes these test cases. This does not cover all possible edge cases, so make sure your function does before submitting.\")"
      ]
    },
    {
      "cell_type": "code",
      "execution_count": null,
      "metadata": {
        "id": "EWIb87CteTa4"
      },
      "outputs": [],
      "source": []
    }
  ],
  "metadata": {
    "kernelspec": {
      "display_name": "Python 3 (ipykernel)",
      "language": "python",
      "name": "python3"
    },
    "language_info": {
      "codemirror_mode": {
        "name": "ipython",
        "version": 3
      },
      "file_extension": ".py",
      "mimetype": "text/x-python",
      "name": "python",
      "nbconvert_exporter": "python",
      "pygments_lexer": "ipython3",
      "version": "3.9.12"
    },
    "colab": {
      "provenance": [],
      "collapsed_sections": [],
      "include_colab_link": true
    }
  },
  "nbformat": 4,
  "nbformat_minor": 0
}
